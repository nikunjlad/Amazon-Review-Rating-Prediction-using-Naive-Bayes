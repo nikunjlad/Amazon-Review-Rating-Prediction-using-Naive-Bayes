{
 "cells": [
  {
   "cell_type": "code",
   "execution_count": 69,
   "metadata": {},
   "outputs": [],
   "source": [
    "#Importing packages\n",
    "from selenium import webdriver\n",
    "import pandas as pd"
   ]
  },
  {
   "cell_type": "code",
   "execution_count": 70,
   "metadata": {},
   "outputs": [],
   "source": [
    "name =[]\n",
    "reviews = []\n",
    "ratings = []"
   ]
  },
  {
   "cell_type": "code",
   "execution_count": 71,
   "metadata": {},
   "outputs": [],
   "source": [
    "driver = webdriver.Chrome('/Users/nikunjlad/Downloads/chromedriver')\n",
    "i = 1\n",
    "for i in range (1,5000):\n",
    "    j = 1\n",
    "    driver.get(\"https://www.amazon.com/All-new-Kindle-Paperwhite-Waterproof-Storage/product-reviews/B07CXG6C9W/ref=cm_cr_dp_d_show_all_btm\"+ str(i) +\"?ie=UTF8&reviewerType=all_reviews&pageNumber=\" + str(i))\n",
    "    try:\n",
    "        for j in range (1,11):\n",
    "            userid_element = driver.find_elements_by_xpath('/html/body/div[1]/div[3]/div[1]/div[1]/div/div[1]/div[5]/div[3]/div[' +str(j) + ']/div/div/div[1]/a/div[2]/span')[0]\n",
    "            userid = userid_element.text                    \n",
    "            name.append(userid)\n",
    "            rating_element = driver.find_elements_by_xpath('/html/body/div[1]/div[3]/div[1]/div[1]/div/div[1]/div[5]/div[3]/div[' +str(j) + ']/div/div/div[2]/a[1]/i/span')[0]\n",
    "            rating = rating_element.get_attribute('innerText')\n",
    "            ratings.append(rating)\n",
    "            review_element = driver.find_elements_by_xpath('/html/body/div[1]/div[3]/div[1]/div[1]/div/div[1]/div[5]/div[3]/div[' + str(j) + ']/div/div/div[4]/span')[0]\n",
    "            review = review_element.text     \n",
    "            reviews.append(review)\n",
    "    except IndexError:\n",
    "        pass\n"
   ]
  },
  {
   "cell_type": "code",
   "execution_count": 72,
   "metadata": {},
   "outputs": [
    {
     "name": "stdout",
     "output_type": "stream",
     "text": [
      "                       Name             Ratings  \\\n",
      "0          E. Hinrichsen II  3.0 out of 5 stars   \n",
      "1                  Sir Mike  4.0 out of 5 stars   \n",
      "2                   Ship210  3.0 out of 5 stars   \n",
      "3                    Rustic  5.0 out of 5 stars   \n",
      "4                   D. Bier  1.0 out of 5 stars   \n",
      "...                     ...                 ...   \n",
      "4665  John and Laura Miller  5.0 out of 5 stars   \n",
      "4666                  Robin  4.0 out of 5 stars   \n",
      "4667             ATLbuckeye  5.0 out of 5 stars   \n",
      "4668                mef1018  4.0 out of 5 stars   \n",
      "4669        Amazon Customer  5.0 out of 5 stars   \n",
      "\n",
      "                                                 Review  \n",
      "0     If you own an earlier Paperwhite and it's stil...  \n",
      "1     Updated Review on Oct 6, 2019:\\n\\nAfter nearly...  \n",
      "2     I love Kindle, have always had one since the f...  \n",
      "3     I feel I need to approach this review from 2 p...  \n",
      "4     It’s infuriating that Amazon went to market wi...  \n",
      "...                                                 ...  \n",
      "4665  for the the paper white works in the dark or w...  \n",
      "4666  What I don’t like is when I’m reading along an...  \n",
      "4667  I bought this to replace an old Kindle with th...  \n",
      "4668  Pros:\\nSize\\nbattery life\\nreading light\\nweig...  \n",
      "4669  I truly love this kindle I have thought I woul...  \n",
      "\n",
      "[4670 rows x 3 columns]\n"
     ]
    }
   ],
   "source": [
    "from pandas import DataFrame\n",
    "data = [name,ratings,reviews]\n",
    "\n",
    "df = DataFrame (data).transpose()\n",
    "df.columns = ['Name','Ratings','Review']\n",
    "print (df)"
   ]
  },
  {
   "cell_type": "code",
   "execution_count": 73,
   "metadata": {},
   "outputs": [
    {
     "data": {
      "text/html": [
       "<div>\n",
       "<style scoped>\n",
       "    .dataframe tbody tr th:only-of-type {\n",
       "        vertical-align: middle;\n",
       "    }\n",
       "\n",
       "    .dataframe tbody tr th {\n",
       "        vertical-align: top;\n",
       "    }\n",
       "\n",
       "    .dataframe thead th {\n",
       "        text-align: right;\n",
       "    }\n",
       "</style>\n",
       "<table border=\"1\" class=\"dataframe\">\n",
       "  <thead>\n",
       "    <tr style=\"text-align: right;\">\n",
       "      <th></th>\n",
       "      <th>Name</th>\n",
       "      <th>Ratings</th>\n",
       "      <th>Review</th>\n",
       "    </tr>\n",
       "  </thead>\n",
       "  <tbody>\n",
       "    <tr>\n",
       "      <th>0</th>\n",
       "      <td>E. Hinrichsen II</td>\n",
       "      <td>3.0 out of 5 stars</td>\n",
       "      <td>If you own an earlier Paperwhite and it's stil...</td>\n",
       "    </tr>\n",
       "    <tr>\n",
       "      <th>1</th>\n",
       "      <td>Sir Mike</td>\n",
       "      <td>4.0 out of 5 stars</td>\n",
       "      <td>Updated Review on Oct 6, 2019:\\n\\nAfter nearly...</td>\n",
       "    </tr>\n",
       "    <tr>\n",
       "      <th>2</th>\n",
       "      <td>Ship210</td>\n",
       "      <td>3.0 out of 5 stars</td>\n",
       "      <td>I love Kindle, have always had one since the f...</td>\n",
       "    </tr>\n",
       "    <tr>\n",
       "      <th>3</th>\n",
       "      <td>Rustic</td>\n",
       "      <td>5.0 out of 5 stars</td>\n",
       "      <td>I feel I need to approach this review from 2 p...</td>\n",
       "    </tr>\n",
       "    <tr>\n",
       "      <th>4</th>\n",
       "      <td>D. Bier</td>\n",
       "      <td>1.0 out of 5 stars</td>\n",
       "      <td>It’s infuriating that Amazon went to market wi...</td>\n",
       "    </tr>\n",
       "  </tbody>\n",
       "</table>\n",
       "</div>"
      ],
      "text/plain": [
       "               Name             Ratings  \\\n",
       "0  E. Hinrichsen II  3.0 out of 5 stars   \n",
       "1          Sir Mike  4.0 out of 5 stars   \n",
       "2           Ship210  3.0 out of 5 stars   \n",
       "3            Rustic  5.0 out of 5 stars   \n",
       "4           D. Bier  1.0 out of 5 stars   \n",
       "\n",
       "                                              Review  \n",
       "0  If you own an earlier Paperwhite and it's stil...  \n",
       "1  Updated Review on Oct 6, 2019:\\n\\nAfter nearly...  \n",
       "2  I love Kindle, have always had one since the f...  \n",
       "3  I feel I need to approach this review from 2 p...  \n",
       "4  It’s infuriating that Amazon went to market wi...  "
      ]
     },
     "execution_count": 73,
     "metadata": {},
     "output_type": "execute_result"
    }
   ],
   "source": [
    "df.head()"
   ]
  },
  {
   "cell_type": "code",
   "execution_count": 74,
   "metadata": {},
   "outputs": [],
   "source": [
    "df.to_csv(\"amazon_scrape.csv\",index = False)"
   ]
  },
  {
   "cell_type": "code",
   "execution_count": 75,
   "metadata": {},
   "outputs": [
    {
     "data": {
      "text/plain": [
       "(4670, 3)"
      ]
     },
     "execution_count": 75,
     "metadata": {},
     "output_type": "execute_result"
    }
   ],
   "source": [
    "df.shape"
   ]
  },
  {
   "cell_type": "code",
   "execution_count": null,
   "metadata": {},
   "outputs": [],
   "source": []
  }
 ],
 "metadata": {
  "kernelspec": {
   "display_name": "Python 3",
   "language": "python",
   "name": "python3"
  },
  "language_info": {
   "codemirror_mode": {
    "name": "ipython",
    "version": 3
   },
   "file_extension": ".py",
   "mimetype": "text/x-python",
   "name": "python",
   "nbconvert_exporter": "python",
   "pygments_lexer": "ipython3",
   "version": "3.7.7"
  }
 },
 "nbformat": 4,
 "nbformat_minor": 2
}
